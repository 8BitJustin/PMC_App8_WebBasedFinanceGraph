{
 "cells": [
  {
   "cell_type": "code",
   "execution_count": 10,
   "metadata": {},
   "outputs": [],
   "source": [
    "from pandas_datareader import data\n",
    "import datetime\n",
    "from bokeh.plotting import figure, show, output_file\n",
    "\n",
    "start = datetime.datetime(2019, 9, 1)\n",
    "end = datetime.datetime(2019, 9, 10)\n",
    "\n",
    "df = data.DataReader(name=\"GOOG\", data_source=\"yahoo\", start=start, end=end)"
   ]
  },
  {
   "cell_type": "code",
   "execution_count": 11,
   "metadata": {},
   "outputs": [
    {
     "data": {
      "text/plain": [
       "DatetimeIndex(['2019-09-04', '2019-09-05', '2019-09-09', '2019-09-10',\n",
       "               '2019-09-11'],\n",
       "              dtype='datetime64[ns]', name='Date', freq=None)"
      ]
     },
     "execution_count": 11,
     "metadata": {},
     "output_type": "execute_result"
    }
   ],
   "source": [
    "def inc_dec(c, o):\n",
    "    if c > o:\n",
    "        value=\"Increase\"\n",
    "    elif c < o:\n",
    "        value=\"Decrease\"\n",
    "    else:\n",
    "        value=\"Equal\"\n",
    "    return value\n",
    "\n",
    "df[\"Status\"] = [inc_dec(c,o) for c, o in zip(df.Close, df.Open)]"
   ]
  },
  {
   "cell_type": "code",
   "execution_count": 15,
   "metadata": {},
   "outputs": [
    {
     "name": "stderr",
     "output_type": "stream",
     "text": [
      "BokehUserWarning: ColumnDataSource's columns must be of the same length. Current lengths: ('x', 5), ('y', 7)\n",
      "BokehUserWarning: ColumnDataSource's columns must be of the same length. Current lengths: ('height', 7), ('x', 5), ('y', 7)\n",
      "BokehUserWarning: ColumnDataSource's columns must be of the same length. Current lengths: ('x', 2), ('y', 7)\n",
      "BokehUserWarning: ColumnDataSource's columns must be of the same length. Current lengths: ('height', 7), ('x', 2), ('y', 7)\n"
     ]
    }
   ],
   "source": [
    "p = figure(x_axis_type='datetime', width=1000, height=300)\n",
    "p.title.text = \"Candlestick Chart\"\n",
    "\n",
    "hours_12 = 12*60*60*1000\n",
    "\n",
    "p.rect(df.index[df.Close > df.Open], (df.Open + df.Close)/2, hours_12,\n",
    "       abs(df.Open - df.Close), fill_color=\"green\", line_color=\"black\")\n",
    "\n",
    "p.rect(df.index[df.Close < df.Open], (df.Open + df.Close)/2, hours_12,\n",
    "       abs(df.Open - df.Close), fill_color=\"red\", line_color=\"black\")\n",
    "\n",
    "output_file(\"CS.html\")\n",
    "show(p)"
   ]
  }
 ],
 "metadata": {
  "kernelspec": {
   "display_name": "Python 3",
   "language": "python",
   "name": "python3"
  },
  "language_info": {
   "codemirror_mode": {
    "name": "ipython",
    "version": 3
   },
   "file_extension": ".py",
   "mimetype": "text/x-python",
   "name": "python",
   "nbconvert_exporter": "python",
   "pygments_lexer": "ipython3",
   "version": "3.7.3"
  }
 },
 "nbformat": 4,
 "nbformat_minor": 2
}
